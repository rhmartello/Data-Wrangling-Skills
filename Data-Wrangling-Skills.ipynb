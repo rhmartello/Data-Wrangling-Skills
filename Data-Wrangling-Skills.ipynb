{
 "cells": [
  {
   "cell_type": "markdown",
   "metadata": {
    "id": "SPa7cCzaTj_x"
   },
   "source": [
    "**Name:** Rafael Henrique Martello\n",
    "\n",
    "**Date**: 05-09-2021\n"
   ]
  },
  {
   "cell_type": "markdown",
   "metadata": {
    "id": "t9HYVFpiTj__"
   },
   "source": [
    "# Assignment 1 - Data Wrangling Skills"
   ]
  },
  {
   "cell_type": "markdown",
   "metadata": {
    "id": "dp6_YHdmTkAA"
   },
   "source": [
    "### Question 1 \n",
    "Load the energy data from the file `Energy Indicators.xls`, which is a list of indicators of [energy supply and renewable electricity production](Energy%20Indicators.xls) from the [United Nations](http://unstats.un.org/unsd/environment/excel_file_tables/2013/Energy%20Indicators.xls) for the year 2013, and should be put into a DataFrame with the variable name of **energy**.\n",
    "\n",
    "Keep in mind that this is an Excel file, and not a comma separated values file. Also, make sure to exclude the footer and header information from the datafile. The first two columns are unneccessary, so you should get rid of them, and you should change the column labels so that the columns are:\n",
    "\n",
    "`['Country', 'Energy Supply', 'Energy Supply per Capita', '% Renewable']`\n",
    "\n",
    "Convert `Energy Supply` to gigajoules (there are 1,000,000 gigajoules in a petajoule). For all countries which have missing data (e.g. data with \"...\") make sure this is reflected as `np.NaN` values.\n",
    "\n",
    "Rename the following list of countries (for use in later questions):\n",
    "\n",
    "```\"Republic of Korea\": \"South Korea\",\n",
    "\"United States of America\": \"United States\",\n",
    "\"United Kingdom of Great Britain and Northern Ireland\": \"United Kingdom\",\n",
    "\"China, Hong Kong Special Administrative Region\": \"Hong Kong\"```\n",
    "\n",
    "There are also several countries with numbers and/or parenthesis in their name. Be sure to remove these, \n",
    "\n",
    "e.g. \n",
    "\n",
    "`'Bolivia (Plurinational State of)'` should be `'Bolivia'`, \n",
    "\n",
    "`'Switzerland17'` should be `'Switzerland'`.\n",
    "\n",
    "<br>\n",
    "\n",
    "Next, load the GDP data from the file `world_bank.csv`, which is a csv containing countries' GDP from 1960 to 2015 from [World Bank](http://data.worldbank.org/indicator/NY.GDP.MKTP.CD). Call this DataFrame **GDP**. \n",
    "\n",
    "Make sure to skip the header, and rename the following list of countries:\n",
    "\n",
    "```\"Korea, Rep.\": \"South Korea\", \n",
    "\"Iran, Islamic Rep.\": \"Iran\",\n",
    "\"Hong Kong SAR, China\": \"Hong Kong\"```\n",
    "\n",
    "<br>\n",
    "\n",
    "Finally, load the [Sciamgo Journal and Country Rank data for Energy Engineering and Power Technology](http://www.scimagojr.com/countryrank.php?category=2102) from the file `scimagojr-3.xlsx`, which ranks countries based on their journal contributions in the aforementioned area. Call this DataFrame **ScimEn**.\n",
    "\n",
    "Join the three datasets: GDP, Energy, and ScimEn into a new dataset (using the intersection of country names). Use only the last 10 years (2006-2015) of GDP data and only the top 15 countries by Scimagojr 'Rank' (Rank 1 through 15). \n",
    "\n",
    "The index of this DataFrame should be the name of the country, and the columns should be ['Rank', 'Documents', 'Citable documents', 'Citations', 'Self-citations',\n",
    "       'Citations per document', 'H index', 'Energy Supply',\n",
    "       'Energy Supply per Capita', '% Renewable', '2006', '2007', '2008',\n",
    "       '2009', '2010', '2011', '2012', '2013', '2014', '2015'].\n",
    "\n",
    "*This function should return a DataFrame with 20 columns and 15 entries.*"
   ]
  },
  {
   "cell_type": "code",
   "execution_count": 1,
   "metadata": {
    "id": "xK3LG_gTxAo2"
   },
   "outputs": [],
   "source": [
    "import pandas as pd\n",
    "import numpy as np"
   ]
  },
  {
   "cell_type": "code",
   "execution_count": 2,
   "metadata": {
    "id": "7YtPWn6XTkAB",
    "umich_part_id": "009",
    "umich_partlist_id": "003"
   },
   "outputs": [],
   "source": [
    "def answer_one():\n",
    "\n",
    "    # --------------------------------------------------------------------------------------------------------------------------------------------- \n",
    "    # DataFrame 1 - energy\n",
    "    # ---------------------------------------------------------------------------------------------------------------------------------------------   \n",
    "\n",
    "    # removing the 17 first rows of header and the 38 last rows from the footer\n",
    "    energy = pd.read_excel('Data_A1/Energy_Indicators.xls', skiprows=17, skipfooter=38) \n",
    "    \n",
    "    # removing column 1 and 2\n",
    "    energy = energy.drop('Unnamed: 0', axis=1)\n",
    "    energy = energy.drop('Unnamed: 1', axis=1) \n",
    "    \n",
    "    # Changing column names\n",
    "    energy.columns = ['Country', 'Energy Supply', 'Energy Supply per Capita', '% Renewable']\n",
    "\n",
    "    ## Remove Numbers:\n",
    "    energy['Country'] = energy['Country'].str.replace(r'\\d*', '', regex=True)\n",
    "    ## Remove parentheses and all data within:\n",
    "    energy['Country'] = energy['Country'].str.replace(r\" \\(.*\\)\",\"\", regex=True)\n",
    "\n",
    "    #Changing country names:\n",
    "    energy['Country'] = energy['Country'].replace(['Republic of Korea'],'South Korea')\n",
    "    energy['Country'] = energy['Country'].replace(['United States of America'],'United States')\n",
    "    energy['Country'] = energy['Country'].replace(['United Kingdom of Great Britain and Northern Ireland'],'United Kingdom')\n",
    "    energy['Country'] = energy['Country'].replace(['China, Hong Kong Special Administrative Region'],'Hong Kong')\n",
    "\n",
    "    # Converting Energy Supply to gigajoules\n",
    "    energy['Energy Supply'] = energy['Energy Supply']*1000000\n",
    "\n",
    "    ## Removing non numerical elements from the dataframe:\n",
    "    energy['Energy Supply'] = pd.to_numeric(energy['Energy Supply'], errors='coerce')\n",
    "    energy['Energy Supply per Capita'] = pd.to_numeric(energy['Energy Supply per Capita'], errors='coerce')\n",
    "    energy['% Renewable'] = pd.to_numeric(energy['% Renewable'], errors='coerce')\n",
    "    energy.set_index(['Country'],inplace=True)\n",
    "    \n",
    "    # --------------------------------------------------------------------------------------------------------------------------------------------- \n",
    "    # DataFrame 2 - GDP\n",
    "    # ---------------------------------------------------------------------------------------------------------------------------------------------   \n",
    "    \n",
    "    GDP = pd.read_csv('Data_A1/world_bank.csv',sep=',', skiprows=4)\n",
    "    \n",
    "    GDP = GDP[['Country Name','2006','2007','2008','2009','2010','2011','2012','2013','2014','2015']]\n",
    "\n",
    "      #Changing country names:\n",
    "    GDP['Country Name'] = GDP['Country Name'].replace(['Korea, Rep.'],'South Korea')\n",
    "    GDP['Country Name'] = GDP['Country Name'].replace(['Iran, Islamic Rep.'],'Iran')\n",
    "    GDP['Country Name'] = GDP['Country Name'].replace(['Hong Kong SAR, China'],'Hong Kong')\n",
    "    GDP.set_index(['Country Name'],inplace=True)\n",
    "    \n",
    "\n",
    "    # --------------------------------------------------------------------------------------------------------------------------------------------- \n",
    "    # DataFrame 3 - ScimEn\n",
    "    # ---------------------------------------------------------------------------------------------------------------------------------------------   \n",
    "    \n",
    "    ScimEn = pd.read_excel('Data_A1/scimagojr-3.xlsx')\n",
    "    ScimEn.set_index(['Country'],inplace=True)\n",
    "    \n",
    "    # --------------------------------------------------------------------------------------------------------------------------------------------- \n",
    "    # Joining the 3 dataframes:\n",
    "    # ---------------------------------------------------------------------------------------------------------------------------------------------   \n",
    "    \n",
    "    df1 = pd.merge(pd.merge(ScimEn,energy,left_on='Country',right_index=True,how ='outer'),GDP,left_on='Country',right_on='Country Name',how ='outer')\n",
    "    df = df1[['Country','Rank', 'Documents', 'Citable documents', 'Citations', 'Self-citations','Citations per document', 'H index', 'Energy Supply','Energy Supply per Capita', '% Renewable', '2006', '2007', '2008','2009', '2010', '2011', '2012', '2013', '2014', '2015']]\n",
    "    df.set_index(['Country'],inplace =True)\n",
    "    df = df.loc[df['Rank'].isin([1,2,3,4,5,6,7,8,9,10,11,12,13,14,15])]\n",
    "    df = df.sort_values(by=['Rank'])\n",
    "\n",
    "    return df\n"
   ]
  },
  {
   "cell_type": "code",
   "execution_count": 3,
   "metadata": {
    "colab": {
     "base_uri": "https://localhost:8080/",
     "height": 684
    },
    "id": "l70A4ifQTkAC",
    "outputId": "ed19f632-ff5f-4dd7-9b5d-a5262cbe0baf"
   },
   "outputs": [
    {
     "data": {
      "text/html": [
       "<div>\n",
       "<style scoped>\n",
       "    .dataframe tbody tr th:only-of-type {\n",
       "        vertical-align: middle;\n",
       "    }\n",
       "\n",
       "    .dataframe tbody tr th {\n",
       "        vertical-align: top;\n",
       "    }\n",
       "\n",
       "    .dataframe thead th {\n",
       "        text-align: right;\n",
       "    }\n",
       "</style>\n",
       "<table border=\"1\" class=\"dataframe\">\n",
       "  <thead>\n",
       "    <tr style=\"text-align: right;\">\n",
       "      <th></th>\n",
       "      <th>Rank</th>\n",
       "      <th>Documents</th>\n",
       "      <th>Citable documents</th>\n",
       "      <th>Citations</th>\n",
       "      <th>Self-citations</th>\n",
       "      <th>Citations per document</th>\n",
       "      <th>H index</th>\n",
       "      <th>Energy Supply</th>\n",
       "      <th>Energy Supply per Capita</th>\n",
       "      <th>% Renewable</th>\n",
       "      <th>2006</th>\n",
       "      <th>2007</th>\n",
       "      <th>2008</th>\n",
       "      <th>2009</th>\n",
       "      <th>2010</th>\n",
       "      <th>2011</th>\n",
       "      <th>2012</th>\n",
       "      <th>2013</th>\n",
       "      <th>2014</th>\n",
       "      <th>2015</th>\n",
       "    </tr>\n",
       "    <tr>\n",
       "      <th>Country</th>\n",
       "      <th></th>\n",
       "      <th></th>\n",
       "      <th></th>\n",
       "      <th></th>\n",
       "      <th></th>\n",
       "      <th></th>\n",
       "      <th></th>\n",
       "      <th></th>\n",
       "      <th></th>\n",
       "      <th></th>\n",
       "      <th></th>\n",
       "      <th></th>\n",
       "      <th></th>\n",
       "      <th></th>\n",
       "      <th></th>\n",
       "      <th></th>\n",
       "      <th></th>\n",
       "      <th></th>\n",
       "      <th></th>\n",
       "      <th></th>\n",
       "    </tr>\n",
       "  </thead>\n",
       "  <tbody>\n",
       "    <tr>\n",
       "      <th>China</th>\n",
       "      <td>1.0</td>\n",
       "      <td>127050.0</td>\n",
       "      <td>126767.0</td>\n",
       "      <td>597237.0</td>\n",
       "      <td>411683.0</td>\n",
       "      <td>4.70</td>\n",
       "      <td>138.0</td>\n",
       "      <td>1.271910e+11</td>\n",
       "      <td>93.0</td>\n",
       "      <td>19.754910</td>\n",
       "      <td>3.992331e+12</td>\n",
       "      <td>4.559041e+12</td>\n",
       "      <td>4.997775e+12</td>\n",
       "      <td>5.459247e+12</td>\n",
       "      <td>6.039659e+12</td>\n",
       "      <td>6.612490e+12</td>\n",
       "      <td>7.124978e+12</td>\n",
       "      <td>7.672448e+12</td>\n",
       "      <td>8.230121e+12</td>\n",
       "      <td>8.797999e+12</td>\n",
       "    </tr>\n",
       "    <tr>\n",
       "      <th>United States</th>\n",
       "      <td>2.0</td>\n",
       "      <td>96661.0</td>\n",
       "      <td>94747.0</td>\n",
       "      <td>792274.0</td>\n",
       "      <td>265436.0</td>\n",
       "      <td>8.20</td>\n",
       "      <td>230.0</td>\n",
       "      <td>9.083800e+10</td>\n",
       "      <td>286.0</td>\n",
       "      <td>11.570980</td>\n",
       "      <td>1.479230e+13</td>\n",
       "      <td>1.505540e+13</td>\n",
       "      <td>1.501149e+13</td>\n",
       "      <td>1.459484e+13</td>\n",
       "      <td>1.496437e+13</td>\n",
       "      <td>1.520402e+13</td>\n",
       "      <td>1.554216e+13</td>\n",
       "      <td>1.577367e+13</td>\n",
       "      <td>1.615662e+13</td>\n",
       "      <td>1.654857e+13</td>\n",
       "    </tr>\n",
       "    <tr>\n",
       "      <th>Japan</th>\n",
       "      <td>3.0</td>\n",
       "      <td>30504.0</td>\n",
       "      <td>30287.0</td>\n",
       "      <td>223024.0</td>\n",
       "      <td>61554.0</td>\n",
       "      <td>7.31</td>\n",
       "      <td>134.0</td>\n",
       "      <td>1.898400e+10</td>\n",
       "      <td>149.0</td>\n",
       "      <td>10.232820</td>\n",
       "      <td>5.496542e+12</td>\n",
       "      <td>5.617036e+12</td>\n",
       "      <td>5.558527e+12</td>\n",
       "      <td>5.251308e+12</td>\n",
       "      <td>5.498718e+12</td>\n",
       "      <td>5.473738e+12</td>\n",
       "      <td>5.569102e+12</td>\n",
       "      <td>5.644659e+12</td>\n",
       "      <td>5.642884e+12</td>\n",
       "      <td>5.669563e+12</td>\n",
       "    </tr>\n",
       "    <tr>\n",
       "      <th>United Kingdom</th>\n",
       "      <td>4.0</td>\n",
       "      <td>20944.0</td>\n",
       "      <td>20357.0</td>\n",
       "      <td>206091.0</td>\n",
       "      <td>37874.0</td>\n",
       "      <td>9.84</td>\n",
       "      <td>139.0</td>\n",
       "      <td>7.920000e+09</td>\n",
       "      <td>124.0</td>\n",
       "      <td>10.600470</td>\n",
       "      <td>2.419631e+12</td>\n",
       "      <td>2.482203e+12</td>\n",
       "      <td>2.470614e+12</td>\n",
       "      <td>2.367048e+12</td>\n",
       "      <td>2.403504e+12</td>\n",
       "      <td>2.450911e+12</td>\n",
       "      <td>2.479809e+12</td>\n",
       "      <td>2.533370e+12</td>\n",
       "      <td>2.605643e+12</td>\n",
       "      <td>2.666333e+12</td>\n",
       "    </tr>\n",
       "    <tr>\n",
       "      <th>Russian Federation</th>\n",
       "      <td>5.0</td>\n",
       "      <td>18534.0</td>\n",
       "      <td>18301.0</td>\n",
       "      <td>34266.0</td>\n",
       "      <td>12422.0</td>\n",
       "      <td>1.85</td>\n",
       "      <td>57.0</td>\n",
       "      <td>3.070900e+10</td>\n",
       "      <td>214.0</td>\n",
       "      <td>17.288680</td>\n",
       "      <td>1.385793e+12</td>\n",
       "      <td>1.504071e+12</td>\n",
       "      <td>1.583004e+12</td>\n",
       "      <td>1.459199e+12</td>\n",
       "      <td>1.524917e+12</td>\n",
       "      <td>1.589943e+12</td>\n",
       "      <td>1.645876e+12</td>\n",
       "      <td>1.666934e+12</td>\n",
       "      <td>1.678709e+12</td>\n",
       "      <td>1.616149e+12</td>\n",
       "    </tr>\n",
       "    <tr>\n",
       "      <th>Canada</th>\n",
       "      <td>6.0</td>\n",
       "      <td>17899.0</td>\n",
       "      <td>17620.0</td>\n",
       "      <td>215003.0</td>\n",
       "      <td>40930.0</td>\n",
       "      <td>12.01</td>\n",
       "      <td>149.0</td>\n",
       "      <td>1.043100e+10</td>\n",
       "      <td>296.0</td>\n",
       "      <td>61.945430</td>\n",
       "      <td>1.564469e+12</td>\n",
       "      <td>1.596740e+12</td>\n",
       "      <td>1.612713e+12</td>\n",
       "      <td>1.565145e+12</td>\n",
       "      <td>1.613406e+12</td>\n",
       "      <td>1.664087e+12</td>\n",
       "      <td>1.693133e+12</td>\n",
       "      <td>1.730688e+12</td>\n",
       "      <td>1.773486e+12</td>\n",
       "      <td>1.792609e+12</td>\n",
       "    </tr>\n",
       "    <tr>\n",
       "      <th>Germany</th>\n",
       "      <td>7.0</td>\n",
       "      <td>17027.0</td>\n",
       "      <td>16831.0</td>\n",
       "      <td>140566.0</td>\n",
       "      <td>27426.0</td>\n",
       "      <td>8.26</td>\n",
       "      <td>126.0</td>\n",
       "      <td>1.326100e+10</td>\n",
       "      <td>165.0</td>\n",
       "      <td>17.901530</td>\n",
       "      <td>3.332891e+12</td>\n",
       "      <td>3.441561e+12</td>\n",
       "      <td>3.478809e+12</td>\n",
       "      <td>3.283340e+12</td>\n",
       "      <td>3.417298e+12</td>\n",
       "      <td>3.542371e+12</td>\n",
       "      <td>3.556724e+12</td>\n",
       "      <td>3.567317e+12</td>\n",
       "      <td>3.624386e+12</td>\n",
       "      <td>3.685556e+12</td>\n",
       "    </tr>\n",
       "    <tr>\n",
       "      <th>India</th>\n",
       "      <td>8.0</td>\n",
       "      <td>15005.0</td>\n",
       "      <td>14841.0</td>\n",
       "      <td>128763.0</td>\n",
       "      <td>37209.0</td>\n",
       "      <td>8.58</td>\n",
       "      <td>115.0</td>\n",
       "      <td>3.319500e+10</td>\n",
       "      <td>26.0</td>\n",
       "      <td>14.969080</td>\n",
       "      <td>1.265894e+12</td>\n",
       "      <td>1.374865e+12</td>\n",
       "      <td>1.428361e+12</td>\n",
       "      <td>1.549483e+12</td>\n",
       "      <td>1.708459e+12</td>\n",
       "      <td>1.821872e+12</td>\n",
       "      <td>1.924235e+12</td>\n",
       "      <td>2.051982e+12</td>\n",
       "      <td>2.200617e+12</td>\n",
       "      <td>2.367206e+12</td>\n",
       "    </tr>\n",
       "    <tr>\n",
       "      <th>France</th>\n",
       "      <td>9.0</td>\n",
       "      <td>13153.0</td>\n",
       "      <td>12973.0</td>\n",
       "      <td>130632.0</td>\n",
       "      <td>28601.0</td>\n",
       "      <td>9.93</td>\n",
       "      <td>114.0</td>\n",
       "      <td>1.059700e+10</td>\n",
       "      <td>166.0</td>\n",
       "      <td>17.020280</td>\n",
       "      <td>2.607840e+12</td>\n",
       "      <td>2.669424e+12</td>\n",
       "      <td>2.674637e+12</td>\n",
       "      <td>2.595967e+12</td>\n",
       "      <td>2.646995e+12</td>\n",
       "      <td>2.702032e+12</td>\n",
       "      <td>2.706968e+12</td>\n",
       "      <td>2.722567e+12</td>\n",
       "      <td>2.729632e+12</td>\n",
       "      <td>2.761185e+12</td>\n",
       "    </tr>\n",
       "    <tr>\n",
       "      <th>South Korea</th>\n",
       "      <td>10.0</td>\n",
       "      <td>11983.0</td>\n",
       "      <td>11923.0</td>\n",
       "      <td>114675.0</td>\n",
       "      <td>22595.0</td>\n",
       "      <td>9.57</td>\n",
       "      <td>104.0</td>\n",
       "      <td>1.100700e+10</td>\n",
       "      <td>221.0</td>\n",
       "      <td>2.279353</td>\n",
       "      <td>9.410199e+11</td>\n",
       "      <td>9.924316e+11</td>\n",
       "      <td>1.020510e+12</td>\n",
       "      <td>1.027730e+12</td>\n",
       "      <td>1.094499e+12</td>\n",
       "      <td>1.134796e+12</td>\n",
       "      <td>1.160809e+12</td>\n",
       "      <td>1.194429e+12</td>\n",
       "      <td>1.234340e+12</td>\n",
       "      <td>1.266580e+12</td>\n",
       "    </tr>\n",
       "    <tr>\n",
       "      <th>Italy</th>\n",
       "      <td>11.0</td>\n",
       "      <td>10964.0</td>\n",
       "      <td>10794.0</td>\n",
       "      <td>111850.0</td>\n",
       "      <td>26661.0</td>\n",
       "      <td>10.20</td>\n",
       "      <td>106.0</td>\n",
       "      <td>6.530000e+09</td>\n",
       "      <td>109.0</td>\n",
       "      <td>33.667230</td>\n",
       "      <td>2.202170e+12</td>\n",
       "      <td>2.234627e+12</td>\n",
       "      <td>2.211154e+12</td>\n",
       "      <td>2.089938e+12</td>\n",
       "      <td>2.125185e+12</td>\n",
       "      <td>2.137439e+12</td>\n",
       "      <td>2.077184e+12</td>\n",
       "      <td>2.040871e+12</td>\n",
       "      <td>2.033868e+12</td>\n",
       "      <td>2.049316e+12</td>\n",
       "    </tr>\n",
       "    <tr>\n",
       "      <th>Spain</th>\n",
       "      <td>12.0</td>\n",
       "      <td>9428.0</td>\n",
       "      <td>9330.0</td>\n",
       "      <td>123336.0</td>\n",
       "      <td>23964.0</td>\n",
       "      <td>13.08</td>\n",
       "      <td>115.0</td>\n",
       "      <td>4.923000e+09</td>\n",
       "      <td>106.0</td>\n",
       "      <td>37.968590</td>\n",
       "      <td>1.414823e+12</td>\n",
       "      <td>1.468146e+12</td>\n",
       "      <td>1.484530e+12</td>\n",
       "      <td>1.431475e+12</td>\n",
       "      <td>1.431673e+12</td>\n",
       "      <td>1.417355e+12</td>\n",
       "      <td>1.380216e+12</td>\n",
       "      <td>1.357139e+12</td>\n",
       "      <td>1.375605e+12</td>\n",
       "      <td>1.419821e+12</td>\n",
       "    </tr>\n",
       "    <tr>\n",
       "      <th>Iran</th>\n",
       "      <td>13.0</td>\n",
       "      <td>8896.0</td>\n",
       "      <td>8819.0</td>\n",
       "      <td>57470.0</td>\n",
       "      <td>19125.0</td>\n",
       "      <td>6.46</td>\n",
       "      <td>72.0</td>\n",
       "      <td>9.172000e+09</td>\n",
       "      <td>119.0</td>\n",
       "      <td>5.707721</td>\n",
       "      <td>3.895523e+11</td>\n",
       "      <td>4.250646e+11</td>\n",
       "      <td>4.289909e+11</td>\n",
       "      <td>4.389208e+11</td>\n",
       "      <td>4.677902e+11</td>\n",
       "      <td>4.853309e+11</td>\n",
       "      <td>4.532569e+11</td>\n",
       "      <td>4.445926e+11</td>\n",
       "      <td>4.639027e+11</td>\n",
       "      <td>NaN</td>\n",
       "    </tr>\n",
       "    <tr>\n",
       "      <th>Australia</th>\n",
       "      <td>14.0</td>\n",
       "      <td>8831.0</td>\n",
       "      <td>8725.0</td>\n",
       "      <td>90765.0</td>\n",
       "      <td>15606.0</td>\n",
       "      <td>10.28</td>\n",
       "      <td>107.0</td>\n",
       "      <td>5.386000e+09</td>\n",
       "      <td>231.0</td>\n",
       "      <td>11.810810</td>\n",
       "      <td>1.021939e+12</td>\n",
       "      <td>1.060340e+12</td>\n",
       "      <td>1.099644e+12</td>\n",
       "      <td>1.119654e+12</td>\n",
       "      <td>1.142251e+12</td>\n",
       "      <td>1.169431e+12</td>\n",
       "      <td>1.211913e+12</td>\n",
       "      <td>1.241484e+12</td>\n",
       "      <td>1.272520e+12</td>\n",
       "      <td>1.301251e+12</td>\n",
       "    </tr>\n",
       "    <tr>\n",
       "      <th>Brazil</th>\n",
       "      <td>15.0</td>\n",
       "      <td>8668.0</td>\n",
       "      <td>8596.0</td>\n",
       "      <td>60702.0</td>\n",
       "      <td>14396.0</td>\n",
       "      <td>7.00</td>\n",
       "      <td>86.0</td>\n",
       "      <td>1.214900e+10</td>\n",
       "      <td>59.0</td>\n",
       "      <td>69.648030</td>\n",
       "      <td>1.845080e+12</td>\n",
       "      <td>1.957118e+12</td>\n",
       "      <td>2.056809e+12</td>\n",
       "      <td>2.054215e+12</td>\n",
       "      <td>2.208872e+12</td>\n",
       "      <td>2.295245e+12</td>\n",
       "      <td>2.339209e+12</td>\n",
       "      <td>2.409740e+12</td>\n",
       "      <td>2.412231e+12</td>\n",
       "      <td>2.319423e+12</td>\n",
       "    </tr>\n",
       "  </tbody>\n",
       "</table>\n",
       "</div>"
      ],
      "text/plain": [
       "                    Rank  Documents  Citable documents  Citations  \\\n",
       "Country                                                             \n",
       "China                1.0   127050.0           126767.0   597237.0   \n",
       "United States        2.0    96661.0            94747.0   792274.0   \n",
       "Japan                3.0    30504.0            30287.0   223024.0   \n",
       "United Kingdom       4.0    20944.0            20357.0   206091.0   \n",
       "Russian Federation   5.0    18534.0            18301.0    34266.0   \n",
       "Canada               6.0    17899.0            17620.0   215003.0   \n",
       "Germany              7.0    17027.0            16831.0   140566.0   \n",
       "India                8.0    15005.0            14841.0   128763.0   \n",
       "France               9.0    13153.0            12973.0   130632.0   \n",
       "South Korea         10.0    11983.0            11923.0   114675.0   \n",
       "Italy               11.0    10964.0            10794.0   111850.0   \n",
       "Spain               12.0     9428.0             9330.0   123336.0   \n",
       "Iran                13.0     8896.0             8819.0    57470.0   \n",
       "Australia           14.0     8831.0             8725.0    90765.0   \n",
       "Brazil              15.0     8668.0             8596.0    60702.0   \n",
       "\n",
       "                    Self-citations  Citations per document  H index  \\\n",
       "Country                                                               \n",
       "China                     411683.0                    4.70    138.0   \n",
       "United States             265436.0                    8.20    230.0   \n",
       "Japan                      61554.0                    7.31    134.0   \n",
       "United Kingdom             37874.0                    9.84    139.0   \n",
       "Russian Federation         12422.0                    1.85     57.0   \n",
       "Canada                     40930.0                   12.01    149.0   \n",
       "Germany                    27426.0                    8.26    126.0   \n",
       "India                      37209.0                    8.58    115.0   \n",
       "France                     28601.0                    9.93    114.0   \n",
       "South Korea                22595.0                    9.57    104.0   \n",
       "Italy                      26661.0                   10.20    106.0   \n",
       "Spain                      23964.0                   13.08    115.0   \n",
       "Iran                       19125.0                    6.46     72.0   \n",
       "Australia                  15606.0                   10.28    107.0   \n",
       "Brazil                     14396.0                    7.00     86.0   \n",
       "\n",
       "                    Energy Supply  Energy Supply per Capita  % Renewable  \\\n",
       "Country                                                                    \n",
       "China                1.271910e+11                      93.0    19.754910   \n",
       "United States        9.083800e+10                     286.0    11.570980   \n",
       "Japan                1.898400e+10                     149.0    10.232820   \n",
       "United Kingdom       7.920000e+09                     124.0    10.600470   \n",
       "Russian Federation   3.070900e+10                     214.0    17.288680   \n",
       "Canada               1.043100e+10                     296.0    61.945430   \n",
       "Germany              1.326100e+10                     165.0    17.901530   \n",
       "India                3.319500e+10                      26.0    14.969080   \n",
       "France               1.059700e+10                     166.0    17.020280   \n",
       "South Korea          1.100700e+10                     221.0     2.279353   \n",
       "Italy                6.530000e+09                     109.0    33.667230   \n",
       "Spain                4.923000e+09                     106.0    37.968590   \n",
       "Iran                 9.172000e+09                     119.0     5.707721   \n",
       "Australia            5.386000e+09                     231.0    11.810810   \n",
       "Brazil               1.214900e+10                      59.0    69.648030   \n",
       "\n",
       "                            2006          2007          2008          2009  \\\n",
       "Country                                                                      \n",
       "China               3.992331e+12  4.559041e+12  4.997775e+12  5.459247e+12   \n",
       "United States       1.479230e+13  1.505540e+13  1.501149e+13  1.459484e+13   \n",
       "Japan               5.496542e+12  5.617036e+12  5.558527e+12  5.251308e+12   \n",
       "United Kingdom      2.419631e+12  2.482203e+12  2.470614e+12  2.367048e+12   \n",
       "Russian Federation  1.385793e+12  1.504071e+12  1.583004e+12  1.459199e+12   \n",
       "Canada              1.564469e+12  1.596740e+12  1.612713e+12  1.565145e+12   \n",
       "Germany             3.332891e+12  3.441561e+12  3.478809e+12  3.283340e+12   \n",
       "India               1.265894e+12  1.374865e+12  1.428361e+12  1.549483e+12   \n",
       "France              2.607840e+12  2.669424e+12  2.674637e+12  2.595967e+12   \n",
       "South Korea         9.410199e+11  9.924316e+11  1.020510e+12  1.027730e+12   \n",
       "Italy               2.202170e+12  2.234627e+12  2.211154e+12  2.089938e+12   \n",
       "Spain               1.414823e+12  1.468146e+12  1.484530e+12  1.431475e+12   \n",
       "Iran                3.895523e+11  4.250646e+11  4.289909e+11  4.389208e+11   \n",
       "Australia           1.021939e+12  1.060340e+12  1.099644e+12  1.119654e+12   \n",
       "Brazil              1.845080e+12  1.957118e+12  2.056809e+12  2.054215e+12   \n",
       "\n",
       "                            2010          2011          2012          2013  \\\n",
       "Country                                                                      \n",
       "China               6.039659e+12  6.612490e+12  7.124978e+12  7.672448e+12   \n",
       "United States       1.496437e+13  1.520402e+13  1.554216e+13  1.577367e+13   \n",
       "Japan               5.498718e+12  5.473738e+12  5.569102e+12  5.644659e+12   \n",
       "United Kingdom      2.403504e+12  2.450911e+12  2.479809e+12  2.533370e+12   \n",
       "Russian Federation  1.524917e+12  1.589943e+12  1.645876e+12  1.666934e+12   \n",
       "Canada              1.613406e+12  1.664087e+12  1.693133e+12  1.730688e+12   \n",
       "Germany             3.417298e+12  3.542371e+12  3.556724e+12  3.567317e+12   \n",
       "India               1.708459e+12  1.821872e+12  1.924235e+12  2.051982e+12   \n",
       "France              2.646995e+12  2.702032e+12  2.706968e+12  2.722567e+12   \n",
       "South Korea         1.094499e+12  1.134796e+12  1.160809e+12  1.194429e+12   \n",
       "Italy               2.125185e+12  2.137439e+12  2.077184e+12  2.040871e+12   \n",
       "Spain               1.431673e+12  1.417355e+12  1.380216e+12  1.357139e+12   \n",
       "Iran                4.677902e+11  4.853309e+11  4.532569e+11  4.445926e+11   \n",
       "Australia           1.142251e+12  1.169431e+12  1.211913e+12  1.241484e+12   \n",
       "Brazil              2.208872e+12  2.295245e+12  2.339209e+12  2.409740e+12   \n",
       "\n",
       "                            2014          2015  \n",
       "Country                                         \n",
       "China               8.230121e+12  8.797999e+12  \n",
       "United States       1.615662e+13  1.654857e+13  \n",
       "Japan               5.642884e+12  5.669563e+12  \n",
       "United Kingdom      2.605643e+12  2.666333e+12  \n",
       "Russian Federation  1.678709e+12  1.616149e+12  \n",
       "Canada              1.773486e+12  1.792609e+12  \n",
       "Germany             3.624386e+12  3.685556e+12  \n",
       "India               2.200617e+12  2.367206e+12  \n",
       "France              2.729632e+12  2.761185e+12  \n",
       "South Korea         1.234340e+12  1.266580e+12  \n",
       "Italy               2.033868e+12  2.049316e+12  \n",
       "Spain               1.375605e+12  1.419821e+12  \n",
       "Iran                4.639027e+11           NaN  \n",
       "Australia           1.272520e+12  1.301251e+12  \n",
       "Brazil              2.412231e+12  2.319423e+12  "
      ]
     },
     "execution_count": 3,
     "metadata": {},
     "output_type": "execute_result"
    }
   ],
   "source": [
    "answer_one()"
   ]
  },
  {
   "cell_type": "markdown",
   "metadata": {
    "id": "vfu_pWJbTkAC"
   },
   "source": [
    "### Question 2\n",
    "The previous question joined three datasets then reduced this to just the top 15 entries. When you joined the datasets, but before you reduced this to the top 15 items, how many entries did you lose?\n",
    "\n",
    "*This function should return a single number.*"
   ]
  },
  {
   "cell_type": "code",
   "execution_count": 4,
   "metadata": {
    "colab": {
     "base_uri": "https://localhost:8080/",
     "height": 321
    },
    "id": "ArDXmZceTkAD",
    "outputId": "479a7e1c-bd19-4203-d792-a3d8687c25cf"
   },
   "outputs": [
    {
     "data": {
      "text/html": [
       "<svg width=\"800\" height=\"300\">\n",
       "  <circle cx=\"150\" cy=\"180\" r=\"80\" fill-opacity=\"0.2\" stroke=\"black\" stroke-width=\"2\" fill=\"blue\" />\n",
       "  <circle cx=\"200\" cy=\"100\" r=\"80\" fill-opacity=\"0.2\" stroke=\"black\" stroke-width=\"2\" fill=\"red\" />\n",
       "  <circle cx=\"100\" cy=\"100\" r=\"80\" fill-opacity=\"0.2\" stroke=\"black\" stroke-width=\"2\" fill=\"green\" />\n",
       "  <line x1=\"150\" y1=\"125\" x2=\"300\" y2=\"150\" stroke=\"black\" stroke-width=\"2\" fill=\"black\" stroke-dasharray=\"5,3\"/>\n",
       "  <text  x=\"300\" y=\"165\" font-family=\"Verdana\" font-size=\"35\">Everything but this!</text>\n",
       "</svg>\n"
      ],
      "text/plain": [
       "<IPython.core.display.HTML object>"
      ]
     },
     "metadata": {},
     "output_type": "display_data"
    }
   ],
   "source": [
    "%%HTML\n",
    "<svg width=\"800\" height=\"300\">\n",
    "  <circle cx=\"150\" cy=\"180\" r=\"80\" fill-opacity=\"0.2\" stroke=\"black\" stroke-width=\"2\" fill=\"blue\" />\n",
    "  <circle cx=\"200\" cy=\"100\" r=\"80\" fill-opacity=\"0.2\" stroke=\"black\" stroke-width=\"2\" fill=\"red\" />\n",
    "  <circle cx=\"100\" cy=\"100\" r=\"80\" fill-opacity=\"0.2\" stroke=\"black\" stroke-width=\"2\" fill=\"green\" />\n",
    "  <line x1=\"150\" y1=\"125\" x2=\"300\" y2=\"150\" stroke=\"black\" stroke-width=\"2\" fill=\"black\" stroke-dasharray=\"5,3\"/>\n",
    "  <text  x=\"300\" y=\"165\" font-family=\"Verdana\" font-size=\"35\">Everything but this!</text>\n",
    "</svg>"
   ]
  },
  {
   "cell_type": "code",
   "execution_count": 5,
   "metadata": {
    "id": "OO3uKfehTkAH",
    "umich_part_id": "010",
    "umich_partlist_id": "003"
   },
   "outputs": [],
   "source": [
    "def answer_two():\n",
    "    # --------------------------------------------------------------------------------------------------------------------------------------------- \n",
    "    # DataFrame 1 - energy\n",
    "    # ---------------------------------------------------------------------------------------------------------------------------------------------   \n",
    "\n",
    "    # removing the 17 first rows of header and the 38 last rows from the footer\n",
    "    energy = pd.read_excel('Data_A1/Energy_Indicators.xls', skiprows=17, skipfooter=38) \n",
    "    \n",
    "    # removing column 1 and 2\n",
    "    energy = energy.drop('Unnamed: 0', axis=1)\n",
    "    energy = energy.drop('Unnamed: 1', axis=1) \n",
    "    \n",
    "    # Changing column names\n",
    "    energy.columns = ['Country', 'Energy Supply', 'Energy Supply per Capita', '% Renewable']\n",
    "\n",
    "    ## Remove Numbers:\n",
    "    energy['Country'] = energy['Country'].str.replace(r'\\d*', '', regex=True)\n",
    "    ## Remove parentheses and all data within:\n",
    "    energy['Country'] = energy['Country'].str.replace(r\" \\(.*\\)\",\"\", regex=True)\n",
    "\n",
    "    #Changing country names:\n",
    "    energy['Country'] = energy['Country'].replace(['Republic of Korea'],'South Korea')\n",
    "    energy['Country'] = energy['Country'].replace(['United States of America'],'United States')\n",
    "    energy['Country'] = energy['Country'].replace(['United Kingdom of Great Britain and Northern Ireland'],'United Kingdom')\n",
    "    energy['Country'] = energy['Country'].replace(['China, Hong Kong Special Administrative Region'],'Hong Kong')\n",
    "\n",
    "    energy.set_index(['Country'],inplace=True)\n",
    "    \n",
    "    # --------------------------------------------------------------------------------------------------------------------------------------------- \n",
    "    # DataFrame 2 - GDP\n",
    "    # ---------------------------------------------------------------------------------------------------------------------------------------------   \n",
    "    \n",
    "    GDP = pd.read_csv('Data_A1/world_bank.csv',sep=',', skiprows=4)\n",
    "    \n",
    "    GDP = GDP[['Country Name','2006','2007','2008','2009','2010','2011','2012','2013','2014','2015']]\n",
    "\n",
    "      #Changing country names:\n",
    "    GDP['Country Name'] = GDP['Country Name'].replace(['Korea, Rep.'],'South Korea')\n",
    "    GDP['Country Name'] = GDP['Country Name'].replace(['Iran, Islamic Rep.'],'Iran')\n",
    "    GDP['Country Name'] = GDP['Country Name'].replace(['Hong Kong SAR, China'],'Hong Kong')    \n",
    "\n",
    "    # --------------------------------------------------------------------------------------------------------------------------------------------- \n",
    "    # DataFrame 3 - ScimEn\n",
    "    # ---------------------------------------------------------------------------------------------------------------------------------------------   \n",
    "    \n",
    "    ScimEn = pd.read_excel('Data_A1/scimagojr-3.xlsx')\n",
    "    \n",
    "    # --------------------------------------------------------------------------------------------------------------------------------------------- \n",
    "    # Avaliate the union - intersection:\n",
    "    # ---------------------------------------------------------------------------------------------------------------------------------------------   \n",
    "\n",
    "    #Create the union (outer join)\n",
    "    union =  pd.merge(pd.merge(ScimEn,energy,left_on='Country',right_index=True,how ='outer'),GDP,left_on='Country',right_on='Country Name',how ='outer')\n",
    "    \n",
    "    #Create the intersection (outer inner)\n",
    "    intersect =  pd.merge(pd.merge(ScimEn,energy,left_on='Country',right_index=True,how ='inner'),GDP,left_on='Country',right_on='Country Name',how ='inner')\n",
    "    return len(union)-len(intersect)"
   ]
  },
  {
   "cell_type": "code",
   "execution_count": 6,
   "metadata": {
    "colab": {
     "base_uri": "https://localhost:8080/"
    },
    "id": "SDkiUDSWTkAH",
    "outputId": "960a9a70-cd2f-4704-b6a3-ffd0627d4633"
   },
   "outputs": [
    {
     "data": {
      "text/plain": [
       "158"
      ]
     },
     "execution_count": 6,
     "metadata": {},
     "output_type": "execute_result"
    }
   ],
   "source": [
    "answer_two()"
   ]
  },
  {
   "cell_type": "markdown",
   "metadata": {
    "id": "nLlvPj-NTkAI"
   },
   "source": [
    "### Question 3\n",
    "What is the average GDP over the last 10 years for each country? (exclude missing values from this calculation.)\n",
    "\n",
    "*This function should return a Series named `avgGDP` with 15 countries and their average GDP sorted in descending order.*"
   ]
  },
  {
   "cell_type": "code",
   "execution_count": 7,
   "metadata": {
    "id": "rVpE5fLRTkAJ",
    "scrolled": true,
    "umich_part_id": "011",
    "umich_partlist_id": "003"
   },
   "outputs": [],
   "source": [
    "def answer_three():\n",
    "    df = answer_one()\n",
    "    # calculate the bean from 2006 to 2015\n",
    "    avgGDP = df[['2006', '2007', '2008','2009', '2010', '2011', '2012', '2013', '2014', '2015']].mean(axis=1,skipna = True).sort_index(ascending = False)\n",
    "    return (avgGDP)"
   ]
  },
  {
   "cell_type": "code",
   "execution_count": 8,
   "metadata": {
    "colab": {
     "base_uri": "https://localhost:8080/"
    },
    "id": "YvoVUnG3TkAJ",
    "outputId": "6637984f-4cac-416a-fda5-3901dfdf1005"
   },
   "outputs": [
    {
     "data": {
      "text/plain": [
       "Country\n",
       "United States         1.536434e+13\n",
       "United Kingdom        2.487907e+12\n",
       "Spain                 1.418078e+12\n",
       "South Korea           1.106715e+12\n",
       "Russian Federation    1.565459e+12\n",
       "Japan                 5.542208e+12\n",
       "Italy                 2.120175e+12\n",
       "Iran                  4.441558e+11\n",
       "India                 1.769297e+12\n",
       "Germany               3.493025e+12\n",
       "France                2.681725e+12\n",
       "China                 6.348609e+12\n",
       "Canada                1.660647e+12\n",
       "Brazil                2.189794e+12\n",
       "Australia             1.164043e+12\n",
       "dtype: float64"
      ]
     },
     "execution_count": 8,
     "metadata": {},
     "output_type": "execute_result"
    }
   ],
   "source": [
    "answer_three()"
   ]
  },
  {
   "cell_type": "markdown",
   "metadata": {
    "id": "ezugkgy0TkAK"
   },
   "source": [
    "### Question 4\n",
    "By how much had the GDP changed over the 10 year span for the country with the 6th largest average GDP?\n",
    "\n",
    "*This function should return a single number.*"
   ]
  },
  {
   "cell_type": "code",
   "execution_count": 9,
   "metadata": {
    "id": "Wr4lv8EBTkAK",
    "scrolled": true,
    "umich_part_id": "012",
    "umich_partlist_id": "003"
   },
   "outputs": [],
   "source": [
    "def answer_four():\n",
    "    df = answer_one()\n",
    "    avgGDP = answer_three()\n",
    "    df['avgGDP'] = avgGDP\n",
    "    # sort avgGDP values\n",
    "    df.sort_values(['avgGDP'],ascending = False,inplace=True)\n",
    "    # for the 6th [5] do 2015 - 2006\n",
    "    return df.iloc[5]['2015']-df.iloc[5]['2006']\n",
    "    "
   ]
  },
  {
   "cell_type": "code",
   "execution_count": 10,
   "metadata": {
    "colab": {
     "base_uri": "https://localhost:8080/"
    },
    "id": "VMB8UoUDTkAK",
    "outputId": "b6da8953-e1c8-43b0-f767-3324ba4adf2d"
   },
   "outputs": [
    {
     "data": {
      "text/plain": [
       "246702696075.3999"
      ]
     },
     "execution_count": 10,
     "metadata": {},
     "output_type": "execute_result"
    }
   ],
   "source": [
    "answer_four()"
   ]
  },
  {
   "cell_type": "markdown",
   "metadata": {
    "id": "XXUEHAYLTkAK"
   },
   "source": [
    "### Question 5\n",
    "What is the mean `Energy Supply per Capita`?\n",
    "\n",
    "*This function should return a single number.*"
   ]
  },
  {
   "cell_type": "code",
   "execution_count": 11,
   "metadata": {
    "id": "u8ijnDZpTkAL",
    "umich_part_id": "013",
    "umich_partlist_id": "003"
   },
   "outputs": [],
   "source": [
    "def answer_five():\n",
    "    df = answer_one()\n",
    "    energy_mean = df['Energy Supply per Capita'].mean()\n",
    "    return energy_mean"
   ]
  },
  {
   "cell_type": "code",
   "execution_count": 12,
   "metadata": {
    "colab": {
     "base_uri": "https://localhost:8080/"
    },
    "id": "NRLdfPgnTkAL",
    "outputId": "0d46e8d9-a507-4353-ca13-fbb20bcf6bad"
   },
   "outputs": [
    {
     "data": {
      "text/plain": [
       "157.6"
      ]
     },
     "execution_count": 12,
     "metadata": {},
     "output_type": "execute_result"
    }
   ],
   "source": [
    "answer_five()"
   ]
  },
  {
   "cell_type": "markdown",
   "metadata": {
    "id": "6y82QeuhTkAL"
   },
   "source": [
    "### Question 6\n",
    "What country has the maximum % Renewable and what is the percentage?\n",
    "\n",
    "*This function should return a tuple with the name of the country and the percentage.*"
   ]
  },
  {
   "cell_type": "code",
   "execution_count": 13,
   "metadata": {
    "id": "xU7EgUU0TkAM",
    "umich_part_id": "014",
    "umich_partlist_id": "003"
   },
   "outputs": [],
   "source": [
    "def answer_six():\n",
    "    df = answer_one()\n",
    "    # using max to obtain the maximum % Renewable\n",
    "    max_renew = df[df['% Renewable'] == max(df['% Renewable'])]\n",
    "    \n",
    "    # get the country name as index and the % \n",
    "    return (max_renew.index.tolist()[0],max_renew['% Renewable'].tolist()[0])"
   ]
  },
  {
   "cell_type": "code",
   "execution_count": 14,
   "metadata": {
    "colab": {
     "base_uri": "https://localhost:8080/"
    },
    "id": "Jpcod3KeUTnb",
    "outputId": "2c07339f-e5fd-41dd-c3a0-7a895ab670a8"
   },
   "outputs": [
    {
     "data": {
      "text/plain": [
       "('Brazil', 69.64803)"
      ]
     },
     "execution_count": 14,
     "metadata": {},
     "output_type": "execute_result"
    }
   ],
   "source": [
    "answer_six()"
   ]
  },
  {
   "cell_type": "markdown",
   "metadata": {
    "id": "_JZSlSdiTkAM"
   },
   "source": [
    "### Question 7 \n",
    "Create a new column that is the ratio of Self-Citations to Total Citations. \n",
    "What is the maximum value for this new column, and what country has the highest ratio?\n",
    "\n",
    "*This function should return a tuple with the name of the country and the ratio.*"
   ]
  },
  {
   "cell_type": "code",
   "execution_count": 15,
   "metadata": {
    "id": "-aHpNTUFTkAM",
    "umich_part_id": "015",
    "umich_partlist_id": "003"
   },
   "outputs": [],
   "source": [
    "def answer_seven():\n",
    "    df = answer_one()\n",
    "    # calculate the citation ratio by = self-citations/citations\n",
    "    df['Citation Ratio'] = df['Self-citations']/df['Citations']\n",
    "    # calculate the max ratio\n",
    "    max_ratio = df[df['Citation Ratio'] == max(df['Citation Ratio'])]\n",
    "    \n",
    "    # get country name and max_ratio\n",
    "    return (max_ratio.index.tolist()[0],max_ratio['Citation Ratio'].tolist()[0])"
   ]
  },
  {
   "cell_type": "code",
   "execution_count": 16,
   "metadata": {
    "colab": {
     "base_uri": "https://localhost:8080/"
    },
    "id": "dimZfBSF3vl_",
    "outputId": "afebc9ed-5cd0-4c10-a984-2f5931fb16ad"
   },
   "outputs": [
    {
     "data": {
      "text/plain": [
       "('China', 0.6893126179389422)"
      ]
     },
     "execution_count": 16,
     "metadata": {},
     "output_type": "execute_result"
    }
   ],
   "source": [
    "answer_seven()"
   ]
  },
  {
   "cell_type": "markdown",
   "metadata": {
    "id": "rhWPV7WKTkAM"
   },
   "source": [
    "### Question 8\n",
    "\n",
    "Create a column that estimates the population using Energy Supply and Energy Supply per capita. \n",
    "What is the third most populous country according to this estimate?\n",
    "\n",
    "*This function should return a single string value.*"
   ]
  },
  {
   "cell_type": "code",
   "execution_count": 17,
   "metadata": {
    "id": "qztIPC69TkAN",
    "umich_part_id": "016",
    "umich_partlist_id": "003"
   },
   "outputs": [],
   "source": [
    "def answer_eight():\n",
    "    df = answer_one()\n",
    "\n",
    "    # calculate population by Energy Supply divided by Energy per Capita\n",
    "    df['Population'] = df['Energy Supply']/df['Energy Supply per Capita']\n",
    "    # sort values\n",
    "    df = df.sort_values(by=['Population'],ascending=False)\n",
    "\n",
    "    # get 3th [2] country name and number of population\n",
    "    return (df['Population'].index.tolist()[2], df['Population'].tolist()[2])"
   ]
  },
  {
   "cell_type": "code",
   "execution_count": 18,
   "metadata": {
    "colab": {
     "base_uri": "https://localhost:8080/"
    },
    "id": "iDS_lgQh3-5v",
    "outputId": "8b0385c7-d346-4a7d-8089-7f0270cc501d"
   },
   "outputs": [
    {
     "data": {
      "text/plain": [
       "('United States', 317615384.61538464)"
      ]
     },
     "execution_count": 18,
     "metadata": {},
     "output_type": "execute_result"
    }
   ],
   "source": [
    "answer_eight()"
   ]
  },
  {
   "cell_type": "markdown",
   "metadata": {
    "id": "Xln6hLq_TkAN"
   },
   "source": [
    "### Question 9\n",
    "Create a column that estimates the number of citable documents per person. \n",
    "What is the correlation between the number of citable documents per capita and the energy supply per capita? Use the `.corr()` method, (Pearson's correlation).\n",
    "\n",
    "*This function should return a single number.*\n"
   ]
  },
  {
   "cell_type": "code",
   "execution_count": 19,
   "metadata": {
    "id": "ehV5ce3LTkAN",
    "umich_part_id": "017",
    "umich_partlist_id": "003"
   },
   "outputs": [],
   "source": [
    "def answer_nine():\n",
    "    df = answer_one()\n",
    "\n",
    "    # Calculate the number of population\n",
    "    df['Population'] = df['Energy Supply']/df['Energy Supply per Capita']\n",
    "    # create Citable docs per Capita for estimating the number of citable documents per person\n",
    "    df['Citable docs per Capita'] = df['Citable documents'] / df['Population']\n",
    "    # estimate correlation\n",
    "    correlation = df['Citable docs per Capita'].corr(df['Energy Supply per Capita'], method='pearson')\n",
    "    return correlation\n"
   ]
  },
  {
   "cell_type": "code",
   "execution_count": 20,
   "metadata": {
    "colab": {
     "base_uri": "https://localhost:8080/"
    },
    "id": "BrQm4wXN4zYw",
    "outputId": "170e15a9-0c62-47c6-ca45-ffd8ec1cbe2f"
   },
   "outputs": [
    {
     "data": {
      "text/plain": [
       "0.7940010435442946"
      ]
     },
     "execution_count": 20,
     "metadata": {},
     "output_type": "execute_result"
    }
   ],
   "source": [
    "answer_nine()"
   ]
  },
  {
   "cell_type": "markdown",
   "metadata": {
    "id": "x2-cK2F-TkAN"
   },
   "source": [
    "### Question 10\n",
    "Create a new column with a 1 if the country's % Renewable value is at or above the median for all countries in the top 15, and a 0 if the country's % Renewable value is below the median.\n",
    "\n",
    "*This function should return a series named `HighRenew` whose index is the country name sorted in ascending order of rank.*"
   ]
  },
  {
   "cell_type": "code",
   "execution_count": 21,
   "metadata": {
    "id": "l-CKherDTkAO",
    "umich_part_id": "018",
    "umich_partlist_id": "003"
   },
   "outputs": [],
   "source": [
    "def answer_ten():\n",
    "    df = answer_one()\n",
    "    # calculate median\n",
    "    median = df['% Renewable'].median() \n",
    "    # as the df ir already sorted by rank we just need to check data with the median\n",
    "    df['HighRenew'] = [1 if x >= median else 0 for x in df['% Renewable']]\n",
    "    return df['HighRenew']"
   ]
  },
  {
   "cell_type": "code",
   "execution_count": 22,
   "metadata": {
    "colab": {
     "base_uri": "https://localhost:8080/"
    },
    "id": "A2K5YL0AHVPC",
    "outputId": "8128defc-6c93-4c25-9cac-8e481314eb53"
   },
   "outputs": [
    {
     "data": {
      "text/plain": [
       "Country\n",
       "China                 1\n",
       "United States         0\n",
       "Japan                 0\n",
       "United Kingdom        0\n",
       "Russian Federation    1\n",
       "Canada                1\n",
       "Germany               1\n",
       "India                 0\n",
       "France                1\n",
       "South Korea           0\n",
       "Italy                 1\n",
       "Spain                 1\n",
       "Iran                  0\n",
       "Australia             0\n",
       "Brazil                1\n",
       "Name: HighRenew, dtype: int64"
      ]
     },
     "execution_count": 22,
     "metadata": {},
     "output_type": "execute_result"
    }
   ],
   "source": [
    "answer_ten()"
   ]
  },
  {
   "cell_type": "markdown",
   "metadata": {
    "id": "1opWnnGqTkAO"
   },
   "source": [
    "### Question 11\n",
    "Use the following dictionary to group the Countries by Continent, then create a dateframe that displays the sample size (the number of countries in each continent bin), and the sum, mean, and std deviation for the estimated population of each country.\n",
    "\n",
    "```python\n",
    "ContinentDict  = {'China':'Asia', \n",
    "                  'United States':'North America', \n",
    "                  'Japan':'Asia', \n",
    "                  'United Kingdom':'Europe', \n",
    "                  'Russian Federation':'Europe', \n",
    "                  'Canada':'North America', \n",
    "                  'Germany':'Europe', \n",
    "                  'India':'Asia',\n",
    "                  'France':'Europe', \n",
    "                  'South Korea':'Asia', \n",
    "                  'Italy':'Europe', \n",
    "                  'Spain':'Europe', \n",
    "                  'Iran':'Asia',\n",
    "                  'Australia':'Australia', \n",
    "                  'Brazil':'South America'}\n",
    "```\n",
    "\n",
    "*This function should return a DataFrame with index named Continent `['Asia', 'Australia', 'Europe', 'North America', 'South America']` and columns `['size', 'sum', 'mean', 'std']`*"
   ]
  },
  {
   "cell_type": "code",
   "execution_count": 23,
   "metadata": {
    "id": "7Ll--p5UTkAO",
    "umich_part_id": "019",
    "umich_partlist_id": "003"
   },
   "outputs": [],
   "source": [
    "def answer_eleven():\n",
    "    ContinentDict  = {'China':'Asia', \n",
    "                  'United States':'North America', \n",
    "                  'Japan':'Asia', \n",
    "                  'United Kingdom':'Europe', \n",
    "                  'Russian Federation':'Europe', \n",
    "                  'Canada':'North America', \n",
    "                  'Germany':'Europe', \n",
    "                  'India':'Asia',\n",
    "                  'France':'Europe', \n",
    "                  'South Korea':'Asia', \n",
    "                  'Italy':'Europe', \n",
    "                  'Spain':'Europe', \n",
    "                  'Iran':'Asia',\n",
    "                  'Australia':'Australia', \n",
    "                  'Brazil':'South America'}\n",
    "    df = answer_one()\n",
    "\n",
    "    # calculate population by Energy Supply divided by Energy per Capita\n",
    "    df['Population'] = df['Energy Supply']/df['Energy Supply per Capita'].astype(float)\n",
    "    df['Population'] = np.float64(df['Population'])\n",
    "\n",
    "    # rename index with continentdict\n",
    "    df.rename(index=ContinentDict,inplace=True)\n",
    "    df.reset_index(inplace = True)\n",
    "\n",
    "    # declare functions\n",
    "    functions = ['size', 'sum', 'mean', 'std']\n",
    "\n",
    "    # Create the continent pupulation table\n",
    "    Population_df = df[['Country','Population']].groupby('Country').agg(functions)\n",
    "    return Population_df\n",
    "\n"
   ]
  },
  {
   "cell_type": "code",
   "execution_count": 24,
   "metadata": {
    "colab": {
     "base_uri": "https://localhost:8080/",
     "height": 266
    },
    "id": "9skiCfpFH9q2",
    "outputId": "e8aee77f-c261-4693-9c62-732469ad041c"
   },
   "outputs": [
    {
     "data": {
      "text/html": [
       "<div>\n",
       "<style scoped>\n",
       "    .dataframe tbody tr th:only-of-type {\n",
       "        vertical-align: middle;\n",
       "    }\n",
       "\n",
       "    .dataframe tbody tr th {\n",
       "        vertical-align: top;\n",
       "    }\n",
       "\n",
       "    .dataframe thead tr th {\n",
       "        text-align: left;\n",
       "    }\n",
       "\n",
       "    .dataframe thead tr:last-of-type th {\n",
       "        text-align: right;\n",
       "    }\n",
       "</style>\n",
       "<table border=\"1\" class=\"dataframe\">\n",
       "  <thead>\n",
       "    <tr>\n",
       "      <th></th>\n",
       "      <th colspan=\"4\" halign=\"left\">Population</th>\n",
       "    </tr>\n",
       "    <tr>\n",
       "      <th></th>\n",
       "      <th>size</th>\n",
       "      <th>sum</th>\n",
       "      <th>mean</th>\n",
       "      <th>std</th>\n",
       "    </tr>\n",
       "    <tr>\n",
       "      <th>Country</th>\n",
       "      <th></th>\n",
       "      <th></th>\n",
       "      <th></th>\n",
       "      <th></th>\n",
       "    </tr>\n",
       "  </thead>\n",
       "  <tbody>\n",
       "    <tr>\n",
       "      <th>Asia</th>\n",
       "      <td>5</td>\n",
       "      <td>2.898666e+09</td>\n",
       "      <td>5.797333e+08</td>\n",
       "      <td>6.790979e+08</td>\n",
       "    </tr>\n",
       "    <tr>\n",
       "      <th>Australia</th>\n",
       "      <td>1</td>\n",
       "      <td>2.331602e+07</td>\n",
       "      <td>2.331602e+07</td>\n",
       "      <td>NaN</td>\n",
       "    </tr>\n",
       "    <tr>\n",
       "      <th>Europe</th>\n",
       "      <td>6</td>\n",
       "      <td>4.579297e+08</td>\n",
       "      <td>7.632161e+07</td>\n",
       "      <td>3.464767e+07</td>\n",
       "    </tr>\n",
       "    <tr>\n",
       "      <th>North America</th>\n",
       "      <td>2</td>\n",
       "      <td>3.528552e+08</td>\n",
       "      <td>1.764276e+08</td>\n",
       "      <td>1.996696e+08</td>\n",
       "    </tr>\n",
       "    <tr>\n",
       "      <th>South America</th>\n",
       "      <td>1</td>\n",
       "      <td>2.059153e+08</td>\n",
       "      <td>2.059153e+08</td>\n",
       "      <td>NaN</td>\n",
       "    </tr>\n",
       "  </tbody>\n",
       "</table>\n",
       "</div>"
      ],
      "text/plain": [
       "              Population                                          \n",
       "                    size           sum          mean           std\n",
       "Country                                                           \n",
       "Asia                   5  2.898666e+09  5.797333e+08  6.790979e+08\n",
       "Australia              1  2.331602e+07  2.331602e+07           NaN\n",
       "Europe                 6  4.579297e+08  7.632161e+07  3.464767e+07\n",
       "North America          2  3.528552e+08  1.764276e+08  1.996696e+08\n",
       "South America          1  2.059153e+08  2.059153e+08           NaN"
      ]
     },
     "execution_count": 24,
     "metadata": {},
     "output_type": "execute_result"
    }
   ],
   "source": [
    "answer_eleven()"
   ]
  },
  {
   "cell_type": "markdown",
   "metadata": {
    "id": "jSzxkGT0TkAO"
   },
   "source": [
    "### Question 12\n",
    "Cut % Renewable into 5 bins. Group Top15 by the Continent, as well as these new % Renewable bins. How many countries are in each of these groups?\n",
    "\n",
    "*This function should return a __Series__ with a MultiIndex of `Continent`, then the bins for `% Renewable`. Do not include groups with no countries.*"
   ]
  },
  {
   "cell_type": "code",
   "execution_count": 25,
   "metadata": {
    "id": "KD--rKa4TkAP",
    "scrolled": true
   },
   "outputs": [],
   "source": [
    "def answer_twelve():\n",
    "    df=answer_one()\n",
    "    ContinentDict  = {'China':'Asia', \n",
    "                  'United States':'North America', \n",
    "                  'Japan':'Asia', \n",
    "                  'United Kingdom':'Europe', \n",
    "                  'Russian Federation':'Europe', \n",
    "                  'Canada':'North America', \n",
    "                  'Germany':'Europe', \n",
    "                  'India':'Asia',\n",
    "                  'France':'Europe', \n",
    "                  'South Korea':'Asia', \n",
    "                  'Italy':'Europe', \n",
    "                  'Spain':'Europe', \n",
    "                  'Iran':'Asia',\n",
    "                  'Australia':'Australia', \n",
    "                  'Brazil':'South America'}\n",
    "    df = df.reset_index()\n",
    "    # first we create the continent column\n",
    "    df['Continent'] = [ContinentDict[country] for country in df['Country']]\n",
    "    # usin pd.cut we separate the data in 5 bins \n",
    "    df['bins'] = pd.cut(df['% Renewable'],5)\n",
    "    # we show the continents, bins and number os countries using size\n",
    "    return df.groupby(['Continent','bins']).size()"
   ]
  },
  {
   "cell_type": "code",
   "execution_count": 26,
   "metadata": {
    "colab": {
     "base_uri": "https://localhost:8080/"
    },
    "id": "tRrHxntXI5XR",
    "outputId": "f0ec333c-c60b-4ab3-d13b-5f2d871f9971"
   },
   "outputs": [
    {
     "data": {
      "text/plain": [
       "Continent      bins            \n",
       "Asia           (2.212, 15.753]     4\n",
       "               (15.753, 29.227]    1\n",
       "               (29.227, 42.701]    0\n",
       "               (42.701, 56.174]    0\n",
       "               (56.174, 69.648]    0\n",
       "Australia      (2.212, 15.753]     1\n",
       "               (15.753, 29.227]    0\n",
       "               (29.227, 42.701]    0\n",
       "               (42.701, 56.174]    0\n",
       "               (56.174, 69.648]    0\n",
       "Europe         (2.212, 15.753]     1\n",
       "               (15.753, 29.227]    3\n",
       "               (29.227, 42.701]    2\n",
       "               (42.701, 56.174]    0\n",
       "               (56.174, 69.648]    0\n",
       "North America  (2.212, 15.753]     1\n",
       "               (15.753, 29.227]    0\n",
       "               (29.227, 42.701]    0\n",
       "               (42.701, 56.174]    0\n",
       "               (56.174, 69.648]    1\n",
       "South America  (2.212, 15.753]     0\n",
       "               (15.753, 29.227]    0\n",
       "               (29.227, 42.701]    0\n",
       "               (42.701, 56.174]    0\n",
       "               (56.174, 69.648]    1\n",
       "dtype: int64"
      ]
     },
     "execution_count": 26,
     "metadata": {},
     "output_type": "execute_result"
    }
   ],
   "source": [
    "answer_twelve()"
   ]
  },
  {
   "cell_type": "markdown",
   "metadata": {
    "id": "6ui3kR6lTkAP"
   },
   "source": [
    "### Question 13\n",
    "Convert the Population Estimate series to a string with thousands separator (using commas). Do not round the results.\n",
    "\n",
    "e.g. 317615384.61538464 -> 317,615,384.61538464\n",
    "\n",
    "*This function should return a Series `PopEst` whose index is the country name and whose values are the population estimate string.*"
   ]
  },
  {
   "cell_type": "code",
   "execution_count": 27,
   "metadata": {
    "id": "2AOvhXinTkAP",
    "scrolled": true,
    "umich_part_id": "020",
    "umich_partlist_id": "003"
   },
   "outputs": [],
   "source": [
    "def answer_thirteen():\n",
    "    import locale\n",
    "    import pandas as pd\n",
    "\n",
    "    locale.setlocale(locale.LC_ALL, 'en_US.utf8')\n",
    "\n",
    "    df = answer_one()\n",
    "\n",
    "    # calculate population by Energy Supply divided by Energy per Capita\n",
    "    df['Population'] = df['Energy Supply']/df['Energy Supply per Capita'].astype(float)\n",
    "    \n",
    "    map_str = []\n",
    "    for i in df['Population']:\n",
    "        # convert format\n",
    "        map_str.append(locale.format_string('%.2f',i,grouping=True))\n",
    "    df['PopEst'] = map_str\n",
    "    return df['PopEst']\n"
   ]
  },
  {
   "cell_type": "code",
   "execution_count": 28,
   "metadata": {
    "colab": {
     "base_uri": "https://localhost:8080/"
    },
    "id": "YoIUFkCLTkAP",
    "outputId": "c0c78d1a-11f4-40a5-95e8-d09d4d617d82"
   },
   "outputs": [
    {
     "data": {
      "text/plain": [
       "Country\n",
       "China                 1,367,645,161.29\n",
       "United States           317,615,384.62\n",
       "Japan                   127,409,395.97\n",
       "United Kingdom           63,870,967.74\n",
       "Russian Federation      143,500,000.00\n",
       "Canada                   35,239,864.86\n",
       "Germany                  80,369,696.97\n",
       "India                 1,276,730,769.23\n",
       "France                   63,837,349.40\n",
       "South Korea              49,805,429.86\n",
       "Italy                    59,908,256.88\n",
       "Spain                    46,443,396.23\n",
       "Iran                     77,075,630.25\n",
       "Australia                23,316,017.32\n",
       "Brazil                  205,915,254.24\n",
       "Name: PopEst, dtype: object"
      ]
     },
     "execution_count": 28,
     "metadata": {},
     "output_type": "execute_result"
    }
   ],
   "source": [
    "answer_thirteen()"
   ]
  },
  {
   "cell_type": "code",
   "execution_count": null,
   "metadata": {},
   "outputs": [],
   "source": []
  }
 ],
 "metadata": {
  "anaconda-cloud": {},
  "colab": {
   "collapsed_sections": [],
   "name": "Assignment1.ipynb",
   "provenance": []
  },
  "coursera": {
   "course_slug": "python-data-analysis",
   "graded_item_id": "zAr06",
   "launcher_item_id": "KSSjT",
   "part_id": "SL3fU"
  },
  "kernelspec": {
   "display_name": "Python 3",
   "language": "python",
   "name": "python3"
  },
  "language_info": {
   "codemirror_mode": {
    "name": "ipython",
    "version": 3
   },
   "file_extension": ".py",
   "mimetype": "text/x-python",
   "name": "python",
   "nbconvert_exporter": "python",
   "pygments_lexer": "ipython3",
   "version": "3.8.8"
  },
  "umich": {
   "id": "Assignment 3",
   "version": "1.5"
  }
 },
 "nbformat": 4,
 "nbformat_minor": 1
}
